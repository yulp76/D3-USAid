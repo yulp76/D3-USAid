{
 "cells": [
  {
   "cell_type": "code",
   "execution_count": 1,
   "metadata": {},
   "outputs": [
    {
     "name": "stderr",
     "output_type": "stream",
     "text": [
      "C:\\Users\\yulp7\\Anaconda3\\lib\\site-packages\\IPython\\core\\interactiveshell.py:2717: DtypeWarning: Columns (42) have mixed types. Specify dtype option on import or set low_memory=False.\n",
      "  interactivity=interactivity, compiler=compiler, result=result)\n"
     ]
    }
   ],
   "source": [
    "import pandas as pd\n",
    "import numpy as np\n",
    "\n",
    "usaid = pd.read_csv(\"us_foreign_aid_complete.csv\")\n",
    "usaid = usaid[[\"country_name\",\"region_name\",\"income_group_name\",\"implementing_agency_name\",\n",
    "               \"dac_category_name\",\"transaction_type_name\",\"numeric_year\",\"constant_amount\"]]\n",
    "usaid.numeric_year=usaid.numeric_year.astype(int)"
   ]
  },
  {
   "cell_type": "code",
   "execution_count": 2,
   "metadata": {
    "collapsed": true
   },
   "outputs": [],
   "source": [
    "usaid = usaid.loc[(usaid[\"numeric_year\"] >= 2000) & (usaid[\"numeric_year\"] <= 2015)\n",
    "                  & (usaid[\"transaction_type_name\"] == \"Disbursements\")]\n",
    "usaid = usaid.drop(['transaction_type_name'], axis=1)"
   ]
  },
  {
   "cell_type": "code",
   "execution_count": 3,
   "metadata": {
    "collapsed": true
   },
   "outputs": [],
   "source": [
    "grouped = usaid.groupby([\"implementing_agency_name\",\"numeric_year\",\"country_name\",\"dac_category_name\",\n",
    "                         \"region_name\",\"income_group_name\"], as_index=False)\n",
    "usaid = grouped.aggregate(np.sum)\n",
    "usaid = usaid.loc[(usaid[\"constant_amount\"] > 100000)]\n",
    "usaid = usaid.dropna(axis=0, how=\"any\")"
   ]
  },
  {
   "cell_type": "code",
   "execution_count": 4,
   "metadata": {
    "collapsed": true
   },
   "outputs": [],
   "source": [
    "usaid.to_csv(\"us_aid.csv\", index=False)"
   ]
  },
  {
   "cell_type": "code",
   "execution_count": 15,
   "metadata": {},
   "outputs": [
    {
     "data": {
      "text/plain": [
       "array(['African Development Foundation', 'Department of Agriculture',\n",
       "       'Department of Commerce', 'Department of Defense',\n",
       "       'Department of Energy', 'Department of Health and Human Services',\n",
       "       'Department of Homeland Security', 'Department of Justice',\n",
       "       'Department of Labor', 'Department of State',\n",
       "       'Department of Transportation', 'Department of the Air Force',\n",
       "       'Department of the Army', 'Department of the Interior',\n",
       "       'Department of the Navy', 'Department of the Treasury',\n",
       "       'Environmental Protection Agency', 'Federal Trade Commission',\n",
       "       'Inter-American Foundation', 'Millennium Challenge Corporation',\n",
       "       'National Science Foundation', 'Open World Leadership Center',\n",
       "       'Overseas Private Investment Corporation', 'Peace Corps',\n",
       "       'Trade and Development Agency',\n",
       "       'U.S. Agency for International Development',\n",
       "       'United States Institute of Peace'], dtype=object)"
      ]
     },
     "execution_count": 15,
     "metadata": {},
     "output_type": "execute_result"
    }
   ],
   "source": [
    "usaid.implementing_agency_name.unique()"
   ]
  },
  {
   "cell_type": "code",
   "execution_count": 20,
   "metadata": {
    "collapsed": true
   },
   "outputs": [],
   "source": [
    "sample = usaid.loc[(usaid[\"numeric_year\"] == 2015) &\n",
    "                  (usaid[\"implementing_agency_name\"].isin(['African Development Foundation', \"Department of Commerce\",\"Department of Labor\", \"Department of Energy\", \"Department of Labor\"])) &\n",
    "                  (usaid[\"country_name\"].isin([\"Vietnam\", 'Nigeria', \"Brazil\", \"Kenya\"]))]"
   ]
  },
  {
   "cell_type": "code",
   "execution_count": 21,
   "metadata": {},
   "outputs": [],
   "source": [
    "sample.to_csv(\"sample.csv\", index=False)"
   ]
  },
  {
   "cell_type": "code",
   "execution_count": null,
   "metadata": {
    "collapsed": true
   },
   "outputs": [],
   "source": []
  }
 ],
 "metadata": {
  "kernelspec": {
   "display_name": "Python 3",
   "language": "python",
   "name": "python3"
  },
  "language_info": {
   "codemirror_mode": {
    "name": "ipython",
    "version": 3
   },
   "file_extension": ".py",
   "mimetype": "text/x-python",
   "name": "python",
   "nbconvert_exporter": "python",
   "pygments_lexer": "ipython3",
   "version": "3.6.1"
  }
 },
 "nbformat": 4,
 "nbformat_minor": 2
}
