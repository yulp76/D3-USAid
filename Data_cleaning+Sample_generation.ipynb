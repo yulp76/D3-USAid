{
 "cells": [
  {
   "cell_type": "code",
   "execution_count": 1,
   "metadata": {},
   "outputs": [
    {
     "name": "stderr",
     "output_type": "stream",
     "text": [
      "C:\\Users\\yulp7\\Anaconda3\\lib\\site-packages\\IPython\\core\\interactiveshell.py:2717: DtypeWarning: Columns (42) have mixed types. Specify dtype option on import or set low_memory=False.\n",
      "  interactivity=interactivity, compiler=compiler, result=result)\n"
     ]
    }
   ],
   "source": [
    "import pandas as pd\n",
    "import numpy as np\n",
    "\n",
    "usaid = pd.read_csv(\"us_foreign_aid_complete.csv\")\n",
    "usaid = usaid[[\"country_name\",\"region_name\",\"income_group_name\",\"implementing_agency_name\",\n",
    "               \"dac_category_name\",\"transaction_type_name\",\"numeric_year\",\"constant_amount\"]]\n",
    "usaid.numeric_year=usaid.numeric_year.astype(int)"
   ]
  },
  {
   "cell_type": "code",
   "execution_count": 2,
   "metadata": {
    "collapsed": true
   },
   "outputs": [],
   "source": [
    "usaid = usaid.loc[(usaid[\"numeric_year\"] >= 2000) & (usaid[\"numeric_year\"] <= 2015)\n",
    "                  & (usaid[\"transaction_type_name\"] == \"Disbursements\")]\n",
    "usaid = usaid.drop(['transaction_type_name'], axis=1)"
   ]
  },
  {
   "cell_type": "code",
   "execution_count": 14,
   "metadata": {},
   "outputs": [],
   "source": [
    "grouped = usaid.groupby([\"implementing_agency_name\",\"numeric_year\",\"country_name\",\"dac_category_name\",\n",
    "                         \"region_name\",\"income_group_name\"], as_index=False)\n",
    "usaid = grouped.aggregate(np.sum)\n",
    "usaid = usaid.loc[(usaid[\"constant_amount\"] > 100000)]\n",
    "usaid = usaid.dropna(axis=0, how=\"any\")"
   ]
  },
  {
   "cell_type": "code",
   "execution_count": 19,
   "metadata": {},
   "outputs": [],
   "source": [
    "usaid.to_csv(\"us_aid.csv\")"
   ]
  },
  {
   "cell_type": "code",
   "execution_count": 20,
   "metadata": {
    "collapsed": true
   },
   "outputs": [],
   "source": [
    "sample = usaid.loc[(usaid[\"numeric_year\"] == 2015) &\n",
    "                  (usaid[\"implementing_agency_name\"].isin([\"Department of Defense\", \"Department of Energy\", \"Department of Agriculture\"])) &\n",
    "                  (usaid[\"dac_category_name\"].isin(['Governance', 'Infrastructure', 'Health and Population'])) &\n",
    "                  (usaid[\"country_name\"].isin([\"Afghanistan\", \"Brazil\", \"Kenya\"]))]"
   ]
  },
  {
   "cell_type": "code",
   "execution_count": 22,
   "metadata": {},
   "outputs": [],
   "source": [
    "sample.to_csv(\"sample.csv\")"
   ]
  }
 ],
 "metadata": {
  "kernelspec": {
   "display_name": "Python 3",
   "language": "python",
   "name": "python3"
  },
  "language_info": {
   "codemirror_mode": {
    "name": "ipython",
    "version": 3
   },
   "file_extension": ".py",
   "mimetype": "text/x-python",
   "name": "python",
   "nbconvert_exporter": "python",
   "pygments_lexer": "ipython3",
   "version": "3.6.1"
  }
 },
 "nbformat": 4,
 "nbformat_minor": 2
}
